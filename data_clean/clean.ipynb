{
 "cells": [
  {
   "cell_type": "code",
   "execution_count": 4,
   "id": "cdeae0e1",
   "metadata": {},
   "outputs": [],
   "source": [
    "import pandas as pd\n",
    "\n",
    "df = pd.read_csv('../diabetes.csv')\n",
    "if df.isnull().values.any():\n",
    "    df.dropna(inplace=True)\n",
    "\n",
    "df['Outcome'] = df['Outcome'].astype(int)\n",
    "\n",
    "df.to_csv('diabetes_cleaned.csv', index=False)"
   ]
  }
 ],
 "metadata": {
  "kernelspec": {
   "display_name": "Python 3 (ipykernel)",
   "language": "python",
   "name": "python3"
  },
  "language_info": {
   "codemirror_mode": {
    "name": "ipython",
    "version": 3
   },
   "file_extension": ".py",
   "mimetype": "text/x-python",
   "name": "python",
   "nbconvert_exporter": "python",
   "pygments_lexer": "ipython3",
   "version": "3.10.11"
  }
 },
 "nbformat": 4,
 "nbformat_minor": 5
}
